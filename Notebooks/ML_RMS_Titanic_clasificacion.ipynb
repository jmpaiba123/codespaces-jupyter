{
 "cells": [
  {
   "cell_type": "markdown",
   "metadata": {},
   "source": [
    "# <span style=\"color: #007BFF; font-size: 24px; font-weight: bold;\">Bienvenidos al Bootcamp Data Science & Analítica de Datos I - RMS TITANIC </span>\n",
    "<div style=\"font-family: 'Arial', sans-serif; font-size: 16px; line-height: 1.6; color: #333;\">"
   ]
  },
  {
   "cell_type": "code",
   "execution_count": 2,
   "metadata": {},
   "outputs": [],
   "source": [
    "import numpy as np\n",
    "import pandas as pd\n",
    "import matplotlib.pyplot as plt\n",
    "%matplotlib inline\n",
    "import seaborn as sns\n",
    "import warnings\n",
    "\n",
    "# Ignore warnings\n",
    "warnings.filterwarnings('ignore')\n",
    "\n",
    "# Set the warning filter to ignore FutureWarning\n",
    "warnings.simplefilter(action=\"ignore\", category=FutureWarning)\n",
    "\n",
    "plt.rcParams[\"figure.figsize\"] = [10, 5]"
   ]
  },
  {
   "cell_type": "markdown",
   "metadata": {},
   "source": [
    "## 1. Sobre los Datos\n",
    "\n",
    "**Vamos a extraer nuestros datos del *Titanic* desde el archivo .csv, crear un DataFrame de pandas y revisar los indicadores disponibles. Este conjunto de datos contiene información de 891 pasajeros con 12 atributos diferentes:**\n",
    "\n",
    "- **Sobrevivió (Survived):** Resultado de la supervivencia (0 = No; 1 = Sí) - *Variable binaria*\n",
    "- **Clase (Pclass):** Clase socioeconómica (1 = Clase alta; 2 = Clase media; 3 = Clase baja) - *Variable categórica ordinal*\n",
    "- **Nombre (Name):** Nombre del pasajero - *Variable de texto*\n",
    "- **Sexo (Sex):** Sexo del pasajero - *Variable categórica nominal*\n",
    "- **Edad (Age):** Edad del pasajero (Algunas entradas contienen NaN) - *Variable numérica continua*\n",
    "- **SibSp:** Número de hermanos y cónyuges del pasajero a bordo - *Variable numérica discreta*\n",
    "- **Parch:** Número de padres e hijos del pasajero a bordo - *Variable numérica discreta*\n",
    "- **Ticket:** Número de boleto del pasajero - *Variable de texto*\n",
    "- **Tarifa (Fare):** Tarifa pagada por el pasajero - *Variable numérica continua*\n",
    "- **Cabina (Cabin):** Número de cabina del pasajero (Algunas entradas contienen NaN) - *Variable de texto*\n",
    "- **Embarcado (Embarked):** Puerto de embarque del pasajero (C = Cherburgo; Q = Queenstown; S = Southampton) - *Variable categórica nominal*\n"
   ]
  },
  {
   "cell_type": "code",
   "execution_count": 5,
   "metadata": {},
   "outputs": [],
   "source": [
    "full_data = pd.read_csv('https://raw.githubusercontent.com/jofepe16/Template-Bootcamp/main/data/Inputs/train.csv')"
   ]
  },
  {
   "cell_type": "code",
   "execution_count": null,
   "metadata": {},
   "outputs": [],
   "source": []
  },
  {
   "cell_type": "markdown",
   "metadata": {},
   "source": []
  },
  {
   "cell_type": "markdown",
   "metadata": {},
   "source": [
    "# **Capítulo 2: Estudio del Caso RMS Titanic**\n",
    "\n",
    "\n",
    "- [Gráficos de distribución](#distribuciones)\n",
    "- [Capítulo 3: Conclusiones y Siguientes Pasos](#capítulo-3-conclusiones-y-siguientes-pasos)\n",
    "\n",
    "\n",
    "\n",
    "\n",
    "<div style=\"font-family: 'Arial', sans-serif; font-size: 16px; line-height: 1.6; color: #333;\">\n",
    "\n",
    "El ****[RMS Titanic](https://es.wikipedia.org/wiki/RMS_Titanic)**** fue un transatlántico británico, el mayor barco de pasajeros del mundo al finalizar su construcción, naufragó en las aguas del océano Atlántico durante la noche del 14 y la madrugada del 15 de abril de 1912, mientras realizaba su viaje inaugural desde Southampton a Nueva York, tras chocar con un iceberg. En el hundimiento murieron 1496 personas de las 2208 que iban a bordo, lo que convierte a esta catástrofe en uno de los naufragios más mortales de la historia ocurridos en tiempos de paz.\n",
    "\n",
    "Este desastre marítimo es un ejemplo clásico que ha sido ampliamente estudiado para entender cómo diversos factores contribuyeron a la probabilidad de supervivencia de las personas a bordo. El Titanic era un lujoso transatlántico que se consideraba \"insumergible\", pero se hundió en su viaje inaugural después de chocar con un iceberg en el Atlántico Norte. De los 2,224 pasajeros y tripulantes a bordo, solo 706 sobrevivieron.\n",
    "\n",
    "**¿Cómo podría haber ayudado la IA?**\n",
    "\n",
    "Imagina que se hubiera contado con tecnologías de inteligencia artificial (IA) avanzadas como las que tenemos hoy en día. Estas tecnologías podrían haber marcado una diferencia significativa en varios aspectos:\n",
    "\n",
    " * **Prevención de Desastres** - Detección de Icebergs: Un sistema de IA podría haber analizado en tiempo real datos meteorológicos, temperatura del agua, y patrones de hielo para predecir la presencia de icebergs en la ruta del Titanic. Los modelos predictivos podrían haber aler\n",
    " tado a la tripulación con anticipación, permitiendo cambiar la ruta o reducir la velocidad.\n",
    " \n",
    " * **Mejor Gestión de la Evacuación** - Optimización de la Capacidad de los Botes Salvavidas: La IA podría haber calculado la manera más eficiente de llenar los botes salvavidas, asegurando que cada bote se utilizara a su máxima capacidad. Esto podría haber aumentado el número de personas rescatadas.\n",
    "\n",
    "* **Priorización Basada en Factores de Riesgo** - Identificación de Grupos Vulnerables: Usando un modelo de clasificación similar al que estás desarrollando, una IA podría haber priorizado la evacuación de personas más vulnerables, como mujeres, niños y personas mayores, basándose en factores como la ubicación a bordo, la salud, y la posibilidad de acceso rápido a los botes salvavidas.\n",
    "\n",
    "* **Coordinación de Rescate** - Optimización de la Respuesta de Rescate: Tras el impacto, una IA podría haber analizado los datos del barco y del mar circundante para coordinar la respuesta de rescate de manera más eficiente, enviando señales de socorro automáticas a las embarcaciones más cercanas y calculando rutas óptimas para que llegaran más rápido.\n",
    "\n",
    "Este contexto nos sirve como una introducción a la utilidad de la ciencia de datos y la inteligencia artificial en la resolución de problemas del mundo real, incluso aquellos de gran magnitud y complejidad. A través de este ejemplo, los participantes del bootcamp pueden apreciar la relevancia y el impacto potencial de lo que estamos a punto de aprender."
   ]
  },
  {
   "cell_type": "markdown",
   "metadata": {},
   "source": [
    "<figure>\n",
    "<center>\n",
    "<img src='https://upload.wikimedia.org/wikipedia/commons/thumb/f/fd/RMS_Titanic_3.jpg/1920px-RMS_Titanic_3.jpg' width=\"750\" height=\"250\" />\n",
    "<figcaption></figcaption></center>\n",
    "</figure>"
   ]
  },
  {
   "cell_type": "markdown",
   "metadata": {},
   "source": [
    "<a id=\"distribuciones\"></a>\n",
    "## **Gráficos de distribución**\n",
    "\n",
    "### 2.1. distplot\n",
    "\n",
    "La función `distplot()` proporciona la manera más conveniente de echar un vistazo rápido a la distribución univariante. Esta función trazará un histograma que se ajusta a la estimación de densidad del núcleo (KDE) de los datos.\n",
    "\n",
    "Ahora tracemos el histograma del **Número de padres e hijos del pasajero a bordo (parch)**."
   ]
  },
  {
   "cell_type": "code",
   "execution_count": 4,
   "metadata": {},
   "outputs": [
    {
     "ename": "NameError",
     "evalue": "name 'full_data' is not defined",
     "output_type": "error",
     "traceback": [
      "\u001b[0;31m---------------------------------------------------------------------------\u001b[0m",
      "\u001b[0;31mNameError\u001b[0m                                 Traceback (most recent call last)",
      "Cell \u001b[0;32mIn[4], line 1\u001b[0m\n\u001b[0;32m----> 1\u001b[0m sns\u001b[38;5;241m.\u001b[39mhistplot(\u001b[43mfull_data\u001b[49m[\u001b[38;5;124m'\u001b[39m\u001b[38;5;124mParch\u001b[39m\u001b[38;5;124m'\u001b[39m],kde\u001b[38;5;241m=\u001b[39m\u001b[38;5;28;01mFalse\u001b[39;00m)\n\u001b[1;32m      2\u001b[0m plt\u001b[38;5;241m.\u001b[39mshow()\n",
      "\u001b[0;31mNameError\u001b[0m: name 'full_data' is not defined"
     ]
    }
   ],
   "source": [
    "sns.histplot(full_data['Parch'],kde=False)\n",
    "plt.show()"
   ]
  },
  {
   "cell_type": "markdown",
   "metadata": {},
   "source": [
    "!pip install "
   ]
  },
  {
   "cell_type": "markdown",
   "metadata": {},
   "source": []
  },
  {
   "cell_type": "markdown",
   "metadata": {},
   "source": []
  },
  {
   "cell_type": "markdown",
   "metadata": {},
   "source": []
  },
  {
   "cell_type": "markdown",
   "metadata": {},
   "source": []
  },
  {
   "cell_type": "markdown",
   "metadata": {},
   "source": []
  },
  {
   "cell_type": "markdown",
   "metadata": {},
   "source": []
  },
  {
   "cell_type": "markdown",
   "metadata": {},
   "source": []
  },
  {
   "cell_type": "markdown",
   "metadata": {},
   "source": [
    "# capítulo-1-introducción-a-la-ciencia-de-datos-y-analítica"
   ]
  },
  {
   "cell_type": "code",
   "execution_count": null,
   "metadata": {},
   "outputs": [],
   "source": []
  },
  {
   "cell_type": "code",
   "execution_count": null,
   "metadata": {},
   "outputs": [],
   "source": []
  },
  {
   "cell_type": "markdown",
   "metadata": {},
   "source": []
  },
  {
   "cell_type": "markdown",
   "metadata": {},
   "source": []
  },
  {
   "cell_type": "markdown",
   "metadata": {},
   "source": []
  },
  {
   "cell_type": "markdown",
   "metadata": {},
   "source": []
  }
 ],
 "metadata": {
  "kernelspec": {
   "display_name": "Python 3",
   "language": "python",
   "name": "python3"
  },
  "language_info": {
   "codemirror_mode": {
    "name": "ipython",
    "version": 3
   },
   "file_extension": ".py",
   "mimetype": "text/x-python",
   "name": "python",
   "nbconvert_exporter": "python",
   "pygments_lexer": "ipython3",
   "version": "3.12.1"
  }
 },
 "nbformat": 4,
 "nbformat_minor": 2
}
